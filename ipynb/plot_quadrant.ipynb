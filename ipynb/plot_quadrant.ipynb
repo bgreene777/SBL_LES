{
 "cells": [
  {
   "cell_type": "markdown",
   "metadata": {},
   "source": [
    "# Plot 2d histograms from quadrant analysis\n",
    "## Plot multiple simulations at same height z/h"
   ]
  },
  {
   "cell_type": "code",
   "execution_count": null,
   "metadata": {},
   "outputs": [],
   "source": [
    "%matplotlib inline\n",
    "# import functions from python directory\n",
    "import sys\n",
    "sys.path.append(\"../python\")\n",
    "import os\n",
    "import seaborn\n",
    "import numpy as np\n",
    "import xarray as xr\n",
    "from matplotlib import pyplot as plt\n",
    "from matplotlib import rc\n",
    "from matplotlib.ticker import MultipleLocator\n",
    "from LESnc import load_stats"
   ]
  },
  {
   "cell_type": "code",
   "execution_count": null,
   "metadata": {},
   "outputs": [],
   "source": [
    "# plotting setup\n",
    "rc('font',weight='normal',size=20,family='serif',serif='Times New Roman')\n",
    "rc('text',usetex='True')\n",
    "cmaps = [plt.get_cmap(\"Greys\"), plt.get_cmap(\"Blues\"), plt.get_cmap(\"Reds\"), plt.get_cmap(\"Purples\")]\n",
    "cmap2 = seaborn.color_palette(\"cubehelix_r\", as_cmap=True)"
   ]
  },
  {
   "cell_type": "code",
   "execution_count": null,
   "metadata": {},
   "outputs": [],
   "source": [
    "# directories\n",
    "# figure save\n",
    "figdir = \"/home/bgreene/SBL_LES/figures/quadrant/\"\n",
    "# list of simulations to loop over\n",
    "sims = [\"0.10\", \"0.25\", \"0.33\", \"0.50\"]\n",
    "# empty list to construct paths and store\n",
    "dnc_all = []\n",
    "for sim in sims:\n",
    "    dnc = f\"/home/bgreene/simulations/cr{sim}_u08_192/output/netcdf/\"\n",
    "    dnc_all.append(dnc)\n"
   ]
  },
  {
   "cell_type": "code",
   "execution_count": null,
   "metadata": {},
   "outputs": [],
   "source": [
    "# loop over sims and load stats and quadrant data\n",
    "sall = []\n",
    "qall = []\n",
    "quadall = []\n",
    "for dnc in dnc_all:\n",
    "    # load stats file\n",
    "    s = load_stats(dnc+\"average_statistics.nc\")\n",
    "    sall.append(s)\n",
    "    # load data for 2d histogram\n",
    "    q = xr.load_dataset(dnc+\"u_w_theta_2d_quadrant.nc\")\n",
    "    qall.append(q)\n",
    "    # load quadrant files\n",
    "    quad = xr.load_dataset(dnc+\"uw_tw_quadrant.nc\")\n",
    "    quadall.append(quad)"
   ]
  },
  {
   "cell_type": "markdown",
   "metadata": {},
   "source": [
    "## Determine joint distributions\n",
    "### u' - w'"
   ]
  },
  {
   "cell_type": "code",
   "execution_count": null,
   "metadata": {},
   "outputs": [],
   "source": [
    "# initialize dictionary to store heights and simulations\n",
    "H_uw_all = {}\n",
    "# use same bins for each sim\n",
    "uw_bins = (np.arange(-10., 10.1, 0.1), np.arange(-10., 10.1, 0.1))\n",
    "# calculate bin area for normalizing later\n",
    "uw_bin_area = np.diff(uw_bins[0])[0] * np.diff(uw_bins[1])[0]\n",
    "# loop over heights and sims\n",
    "for iz, sz in enumerate(np.around(qall[0].zh, 1)):\n",
    "    sz = str(sz.values)\n",
    "    H_uw_all[sz] = []\n",
    "    for s, q in zip(sall, qall):\n",
    "        # calculate bins and edges\n",
    "        H_uw, x_uw, y_uw = np.histogram2d(q.u[iz].values/s.ustar0.values, \n",
    "                                          q.w[iz].values/s.ustar0.values, \n",
    "                                          bins=uw_bins, density=True)\n",
    "        # normalize sum==1 by multiplying by bin area\n",
    "        # also multiply by 100% for units\n",
    "        H_uw *= uw_bin_area * 100.\n",
    "        # append to big list\n",
    "        H_uw_all[sz].append(H_uw)\n",
    "# calculate bin centers\n",
    "x1 = x_uw[:-1] + np.diff(x_uw)/2\n",
    "y1 = y_uw[:-1] + np.diff(y_uw)/2"
   ]
  },
  {
   "cell_type": "markdown",
   "metadata": {},
   "source": [
    "### Plot u' - w' joint dist\n",
    "Subplots for each simulation and height"
   ]
  },
  {
   "cell_type": "code",
   "execution_count": null,
   "metadata": {},
   "outputs": [],
   "source": [
    "fig1, ax1 = plt.subplots(nrows=len(H_uw_all), ncols=len(qall), \n",
    "                         sharex=True, sharey=True, figsize=(20, 14), \n",
    "                         constrained_layout=True)\n",
    "# loop over H_uw_all and contour -- keys(height) and list elements(simulation)\n",
    "# loop over heights (rows)\n",
    "for iH, sH in enumerate(H_uw_all.keys()):\n",
    "    # determine contour levels at each height\n",
    "    # levels = get_contour_levels(H_uw_all[sH], 21)\n",
    "    cax1 = []\n",
    "    # loop over simulations (columns)\n",
    "    for isim, sim in enumerate(H_uw_all[sH]):\n",
    "        cax = ax1[iH,isim].contour(x1, y1, H_uw_all[sH][isim].T, cmap=cmap2,\n",
    "                                   extend=\"both\", levels=11)\n",
    "        # ax1[iH,isim].clabel(cax, cax.levels, inline=True, fontsize=10)                           \n",
    "        cax1.append(cax)\n",
    "    # add colorbars at end of rows\n",
    "    cb1 = fig1.colorbar(cax1[-1], ax=ax1[iH,:], location=\"right\")\n",
    "    cb1.ax.set_ylabel(\"Frequency [\\\\%]\")\n",
    "\n",
    "# add labels\n",
    "[iax.set_xlabel(\"$u'/u_{*}$\") for iax in ax1[-1,:]]\n",
    "[iax.set_ylabel(f\"$w'/u_{{*}}$, $z/h={{{sH}}}$\") for sH, iax in zip(H_uw_all.keys(), ax1[:,0])]\n",
    "ax1[0,0].set_xlim([-3, 3])\n",
    "ax1[0,0].set_ylim([-2, 2])\n",
    "[iax.axhline(0., c=\"k\", alpha=0.5) for iax in ax1.flatten()]\n",
    "[iax.axvline(0., c=\"k\", alpha=0.5) for iax in ax1.flatten()]\n",
    "[iax.set_title(f\"$h/L = {{{(sall[i].he/sall[i].L).values:3.2f}}}$\") for i, iax in enumerate(ax1[0, :])]"
   ]
  },
  {
   "cell_type": "markdown",
   "metadata": {},
   "source": [
    "### $\\theta'$ - $w'$"
   ]
  },
  {
   "cell_type": "code",
   "execution_count": null,
   "metadata": {},
   "outputs": [],
   "source": [
    "# initialize dictionary to store heights and simulations\n",
    "H_tw_all = {}\n",
    "# use same bins for each sim\n",
    "tw_bins = (np.arange(-15., 15.1, 0.1), np.arange(-10., 10.1, 0.1))\n",
    "# calculate bin area for normalizing later\n",
    "tw_bin_area = np.diff(tw_bins[0])[0] * np.diff(tw_bins[1])[0]\n",
    "# loop over heights and sims\n",
    "for iz, sz in enumerate(np.around(qall[0].zh, 1)):\n",
    "    sz = str(sz.values)\n",
    "    H_tw_all[sz] = []\n",
    "    for s, q in zip(sall, qall):\n",
    "        # calculate bins and edges\n",
    "        H_tw, x_tw, y_tw = np.histogram2d(q.theta[iz].values/s.tstar0.values, \n",
    "                                          q.w[iz].values/s.ustar0.values, \n",
    "                                          bins=tw_bins, density=True)\n",
    "        # normalize sum==1 by multiplying by bin area\n",
    "        # also multiply by 100% for units\n",
    "        H_tw *= tw_bin_area * 100.\n",
    "        # append to big list\n",
    "        H_tw_all[sz].append(H_tw)\n",
    "# calculate bin centers\n",
    "x2 = x_tw[:-1] + np.diff(x_tw)/2\n",
    "y2 = y_tw[:-1] + np.diff(y_tw)/2"
   ]
  },
  {
   "cell_type": "markdown",
   "metadata": {},
   "source": [
    "### Plot $\\theta'$ - $w'$ joint"
   ]
  },
  {
   "cell_type": "code",
   "execution_count": null,
   "metadata": {},
   "outputs": [],
   "source": [
    "fig2, ax2 = plt.subplots(nrows=len(H_tw_all), ncols=len(qall), \n",
    "                         sharex=True, sharey=True, figsize=(20, 14), \n",
    "                         constrained_layout=True)\n",
    "# loop over H_uw_all and contour -- keys(height) and list elements(simulation)\n",
    "# loop over heights (rows)\n",
    "for iH, sH in enumerate(H_tw_all.keys()):\n",
    "    cax2 = []\n",
    "    # loop over simulations (columns)\n",
    "    for isim, sim in enumerate(H_tw_all[sH]):\n",
    "        cax = ax2[iH,isim].contour(x2, y2, H_tw_all[sH][isim].T, cmap=cmap2,\n",
    "                                   extend=\"both\", levels=11)\n",
    "        # ax1[iH,isim].clabel(cax, cax.levels, inline=True, fontsize=10)                           \n",
    "        cax2.append(cax)\n",
    "    # add colorbars at end of rows\n",
    "    cb2 = fig2.colorbar(cax2[-1], ax=ax2[iH,:], location=\"right\")\n",
    "    cb2.ax.set_ylabel(\"Frequency [\\\\%]\")\n",
    "\n",
    "# add labels\n",
    "[iax.set_xlabel(\"$\\\\theta'/\\\\theta_{*}$\") for iax in ax2[-1,:]]\n",
    "[iax.set_ylabel(f\"$w'/u_{{*}}$, $z/h={{{sH}}}$\") for sH, iax in zip(H_tw_all.keys(), ax2[:,0])]\n",
    "ax2[0,0].set_xlim([-5, 5])\n",
    "ax2[0,0].set_ylim([-2, 2])\n",
    "[iax.axhline(0., c=\"k\", alpha=0.5) for iax in ax2.flatten()]\n",
    "[iax.axvline(0., c=\"k\", alpha=0.5) for iax in ax2.flatten()]\n",
    "[iax.set_title(f\"$h/L = {{{(sall[i].he/sall[i].L).values:3.2f}}}$\") for i, iax in enumerate(ax2[0, :])]"
   ]
  },
  {
   "cell_type": "markdown",
   "metadata": {},
   "source": [
    "### $\\theta'$ - $u'$"
   ]
  },
  {
   "cell_type": "code",
   "execution_count": null,
   "metadata": {},
   "outputs": [],
   "source": [
    "# initialize dictionary to store heights and simulations\n",
    "H_tu_all = {}\n",
    "# use same bins for each sim\n",
    "tu_bins = (np.arange(-15., 15.1, 0.1), np.arange(-10., 10.1, 0.1))\n",
    "# calculate bin area for normalizing later\n",
    "tu_bin_area = np.diff(tu_bins[0])[0] * np.diff(tu_bins[1])[0]\n",
    "# loop over heights and sims\n",
    "for iz, sz in enumerate(np.around(qall[0].zh, 1)):\n",
    "    sz = str(sz.values)\n",
    "    H_tu_all[sz] = []\n",
    "    for s, q in zip(sall, qall):\n",
    "        # calculate bins and edges\n",
    "        H_tu, x_tu, y_tu = np.histogram2d(q.theta[iz].values/s.tstar0.values, \n",
    "                                          q.u[iz].values/s.ustar0.values, \n",
    "                                          bins=tu_bins, density=True)\n",
    "        # normalize sum==1 by multiplying by bin area\n",
    "        # also multiply by 100% for units\n",
    "        H_tu *= tu_bin_area * 100.\n",
    "        # append to big list\n",
    "        H_tu_all[sz].append(H_tu)\n",
    "# calculate bin centers\n",
    "x3 = x_tu[:-1] + np.diff(x_tu)/2\n",
    "y3 = y_tu[:-1] + np.diff(y_tu)/2"
   ]
  },
  {
   "cell_type": "code",
   "execution_count": null,
   "metadata": {},
   "outputs": [],
   "source": [
    "fig3, ax3 = plt.subplots(nrows=len(H_tu_all), ncols=len(qall), \n",
    "                         sharex=True, sharey=True, figsize=(20, 14), \n",
    "                         constrained_layout=True)\n",
    "# loop over H_uw_all and contour -- keys(height) and list elements(simulation)\n",
    "# loop over heights (rows)\n",
    "for iH, sH in enumerate(H_tu_all.keys()):\n",
    "    cax3 = []\n",
    "    # loop over simulations (columns)\n",
    "    for isim, sim in enumerate(H_tu_all[sH]):\n",
    "        cax = ax3[iH,isim].contour(x3, y3, H_tu_all[sH][isim].T, cmap=cmap2,\n",
    "                                   extend=\"both\", levels=11)\n",
    "        # ax1[iH,isim].clabel(cax, cax.levels, inline=True, fontsize=10)                           \n",
    "        cax3.append(cax)\n",
    "    # add colorbars at end of rows\n",
    "    cb3 = fig2.colorbar(cax3[-1], ax=ax3[iH,:], location=\"right\")\n",
    "    cb3.ax.set_ylabel(\"Frequency [\\\\%]\")\n",
    "\n",
    "# add labels\n",
    "[iax.set_xlabel(\"$\\\\theta'/\\\\theta_{*}$\") for iax in ax3[-1,:]]\n",
    "[iax.set_ylabel(f\"$u'/u_{{*}}$, $z/h={{{sH}}}$\") for sH, iax in zip(H_tu_all.keys(), ax3[:,0])]\n",
    "ax3[0,0].set_xlim([-5, 5])\n",
    "ax3[0,0].set_ylim([-3, 3])\n",
    "[iax.axhline(0., c=\"k\", alpha=0.5) for iax in ax3.flatten()]\n",
    "[iax.axvline(0., c=\"k\", alpha=0.5) for iax in ax3.flatten()]\n",
    "[iax.set_title(f\"$h/L = {{{(sall[i].he/sall[i].L).values:3.2f}}}$\") for i, iax in enumerate(ax3[0, :])]"
   ]
  },
  {
   "cell_type": "markdown",
   "metadata": {},
   "source": [
    "# Plot profiles of correlation coefficients $R_{uw}, R_{\\theta w}, R_{\\theta u}$"
   ]
  },
  {
   "cell_type": "code",
   "execution_count": null,
   "metadata": {},
   "outputs": [],
   "source": [
    "# loop over simulations\n",
    "for s, quad in zip(sall, quadall):\n",
    "    # R_ab = <a'b'> / (sigma_a * sigma_b)\n",
    "    s[\"Ruw\"] = np.abs(s.uw_cov_tot / np.sqrt(s.u_var) / np.sqrt(s.w_var))\n",
    "    s[\"Rtw\"] = np.abs(s.tw_cov_tot / np.sqrt(s.theta_var) / np.sqrt(s.w_var))\n",
    "    # eta_uw = <u'w'> / (u-w+ + u+w-)\n",
    "    s[\"eta_uw\"] = np.abs(s.uw_cov_tot) / np.abs((quad.uw_np + quad.uw_pn))\n",
    "    # eta_tw = <theta'w'> / (t+w+ + t-w-)\n",
    "    s[\"eta_tw\"] = np.abs(s.tw_cov_tot) / np.abs((quad.tw_pp + quad.tw_nn))"
   ]
  },
  {
   "cell_type": "code",
   "execution_count": null,
   "metadata": {},
   "outputs": [],
   "source": [
    "fig4, ax4 = plt.subplots(nrows=2, ncols=3, sharey=True, figsize=(14,10))\n",
    "for s in sall:\n",
    "    # Ruw\n",
    "    ax4[0,0].plot(s.Ruw, s.z/s.he, label=f\"$h/L={{{(s.he/s.L).values:3.2f}}}$\")\n",
    "    # Rtw\n",
    "    ax4[0,1].plot(s.Rtw, s.z/s.he)\n",
    "    # Ruw / Rtw\n",
    "    ax4[0,2].plot(s.Ruw/s.Rtw, s.z/s.he)\n",
    "    # eta_uw\n",
    "    ax4[1,0].plot(s.eta_uw, s.z/s.he)\n",
    "    # eta_tw\n",
    "    ax4[1,1].plot(s.eta_tw, s.z/s.he)\n",
    "    # eta_uw/eta_tw\n",
    "    ax4[1,2].plot(s.eta_uw/s.eta_tw, s.z/s.he)\n",
    "\n",
    "ax4[0,0].legend(fontsize=14)\n",
    "ax4[0,0].set_xlim([0, 0.5])\n",
    "ax4[1,0].set_xlim([0, 0.5])\n",
    "ax4[0,1].set_xlim([0, 0.6])\n",
    "ax4[1,1].set_xlim([0, 0.6])\n",
    "ax4[0,2].set_xlim([0, 2])\n",
    "ax4[1,2].set_xlim([0, 2])\n",
    "ax4[1,0].set_ylim([0, 1])\n",
    "ax4[0,0].set_xlabel(\"$R_{uw}$\")\n",
    "ax4[0,0].set_ylabel(\"$z/h$\")\n",
    "ax4[1,0].set_ylabel(\"$z/h$\")\n",
    "ax4[0,1].set_xlabel(\"$R_{\\\\theta w}$\")\n",
    "ax4[0,2].set_xlabel(\"$R_{uw}/R_{\\\\theta w}$\")\n",
    "ax4[1,0].set_xlabel(\"$\\\\eta_{uw} = \\\\overline{uw} / (\\\\overline{uw}^{II} + \\\\overline{uw}^{IV})$\")\n",
    "ax4[1,1].set_xlabel(\"$\\\\eta_{\\\\theta w} = \\\\overline{\\\\theta w} / (\\\\overline{\\\\theta w}^{I} + \\\\overline{\\\\theta w}^{III})$\")\n",
    "ax4[1,2].set_xlabel(\"$\\\\eta_{uw} / \\\\eta_{\\\\theta w}$\")"
   ]
  },
  {
   "cell_type": "code",
   "execution_count": null,
   "metadata": {},
   "outputs": [],
   "source": [
    "quad"
   ]
  },
  {
   "cell_type": "markdown",
   "metadata": {},
   "source": [
    "# Profiles of quadrant fractions"
   ]
  },
  {
   "cell_type": "code",
   "execution_count": null,
   "metadata": {},
   "outputs": [],
   "source": [
    "# u'w'\n",
    "fig5, ax5 = plt.subplots(nrows=1, ncols=4, sharey=True, sharex=True, figsize=(14.8, 5))\n",
    "# loop over simulations\n",
    "for s, quad in zip(sall, quadall):\n",
    "    # calc sum of quadrants -- NOTE: not weighted average!\n",
    "    quad[\"uw_sum\"] = np.abs(quad.uw_pp) + np.abs(quad.uw_pn) + np.abs(quad.uw_np) + np.abs(quad.uw_nn)\n",
    "    # quadrant I: u+w+\n",
    "    ax5[0].plot(np.abs(quad.uw_pp)/np.abs(quad.uw_sum), s.z/s.he, \n",
    "                label=f\"$h/L={{{(s.he/s.L).values:3.2f}}}$\")\n",
    "    # quadrant II: u-w+\n",
    "    ax5[1].plot(np.abs(quad.uw_np)/np.abs(quad.uw_sum), s.z/s.he)\n",
    "    # quadrant III: u-w-\n",
    "    ax5[2].plot(np.abs(quad.uw_nn)/np.abs(quad.uw_sum), s.z/s.he)\n",
    "    # quadrant II: u+w-\n",
    "    ax5[3].plot(np.abs(quad.uw_pn)/np.abs(quad.uw_sum), s.z/s.he)\n",
    "# clean up\n",
    "ax5[0].legend(fontsize=14)\n",
    "ax5[0].set_ylim([0, 1])\n",
    "ax5[0].set_ylabel(\"$z/h$\")\n",
    "ax5[0].set_xlim([0, 0.6])\n",
    "[iax.set_xlabel(f\"$|\\\\overline{{uw}}^{{{ii}}}| / \\\\Sigma | \\\\overline{{uw}}^k |$\") for iax, ii in zip(ax5, [\"I\", \"II\", \"III\", \"IV\"])]\n",
    "ax5[0].xaxis.set_major_locator(MultipleLocator(0.2))"
   ]
  },
  {
   "cell_type": "code",
   "execution_count": null,
   "metadata": {},
   "outputs": [],
   "source": []
  },
  {
   "cell_type": "code",
   "execution_count": null,
   "metadata": {},
   "outputs": [],
   "source": []
  }
 ],
 "metadata": {
  "interpreter": {
   "hash": "f9fbfffe580729b6e74213a43dd342ffb424f1e3925a9b41876a0ee745b6429c"
  },
  "kernelspec": {
   "display_name": "Python 3.7.11 ('base')",
   "language": "python",
   "name": "python3"
  },
  "language_info": {
   "codemirror_mode": {
    "name": "ipython",
    "version": 3
   },
   "file_extension": ".py",
   "mimetype": "text/x-python",
   "name": "python",
   "nbconvert_exporter": "python",
   "pygments_lexer": "ipython3",
   "version": "3.7.11"
  },
  "orig_nbformat": 4
 },
 "nbformat": 4,
 "nbformat_minor": 2
}
