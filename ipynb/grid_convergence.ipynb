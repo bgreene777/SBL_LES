{
 "cells": [
  {
   "cell_type": "code",
   "execution_count": 1,
   "metadata": {},
   "outputs": [],
   "source": [
    "# --------------------------------\n",
    "# Name: grid_convergence.ipynb\n",
    "# Author: Brian R. Greene\n",
    "# University of Oklahoma\n",
    "# Created: 23 February 2022\n",
    "# Purpose: Read xyt mean netcdf files for sims A & F at\n",
    "# 96^3, 128^3, 160^3, and 192^3 resolutions to plot\n",
    "# --------------------------------"
   ]
  },
  {
   "cell_type": "markdown",
   "metadata": {},
   "source": [
    "### Import packages and setup plotting"
   ]
  },
  {
   "cell_type": "code",
   "execution_count": 1,
   "metadata": {},
   "outputs": [],
   "source": [
    "%matplotlib inline\n",
    "import os\n",
    "import seaborn\n",
    "import numpy as np\n",
    "import xarray as xr\n",
    "import matplotlib.pyplot as plt\n",
    "from matplotlib import rc\n",
    "from matplotlib.ticker import MultipleLocator"
   ]
  },
  {
   "cell_type": "code",
   "execution_count": 2,
   "metadata": {},
   "outputs": [],
   "source": [
    "# Configure plots\n",
    "rc('font',weight='normal',size=20,family='serif',serif='Times New Roman')\n",
    "rc('text',usetex='True')\n",
    "colors = seaborn.color_palette(\"cubehelix\", 4)\n",
    "props=dict(boxstyle=\"square\",facecolor=\"white\",edgecolor=\"white\",alpha=0.0)\n",
    "# colors = seaborn.color_palette(\"colorblind\")\n",
    "fdir_save = \"/home/bgreene/SBL_LES/figures/grid_convergence/\"\n",
    "if not os.path.exists(fdir_save):\n",
    "    os.mkdir(fdir_save)\n",
    "plt.close(\"all\")"
   ]
  },
  {
   "cell_type": "code",
   "execution_count": 4,
   "metadata": {},
   "outputs": [
    {
     "data": {
      "text/html": [
       "<svg  width=\"220\" height=\"55\"><rect x=\"0\" y=\"0\" width=\"55\" height=\"55\" style=\"fill:#163d4e;stroke-width:2;stroke:rgb(255,255,255)\"/><rect x=\"55\" y=\"0\" width=\"55\" height=\"55\" style=\"fill:#54792f;stroke-width:2;stroke:rgb(255,255,255)\"/><rect x=\"110\" y=\"0\" width=\"55\" height=\"55\" style=\"fill:#d07e93;stroke-width:2;stroke:rgb(255,255,255)\"/><rect x=\"165\" y=\"0\" width=\"55\" height=\"55\" style=\"fill:#c1caf3;stroke-width:2;stroke:rgb(255,255,255)\"/></svg>"
      ],
      "text/plain": [
       "[(0.08605633600581403, 0.23824692404212, 0.30561236308077167),\n",
       " (0.32927729263408284, 0.4762845556584382, 0.1837155549758328),\n",
       " (0.8146245329198283, 0.49548316572322215, 0.5752525936416857),\n",
       " (0.7587183008012618, 0.7922069335474338, 0.9543861221913403)]"
      ]
     },
     "execution_count": 4,
     "metadata": {},
     "output_type": "execute_result"
    }
   ],
   "source": [
    "colors"
   ]
  },
  {
   "cell_type": "markdown",
   "metadata": {},
   "source": [
    "### Load netcdf stats files\n",
    "\n",
    "Sort by stability and grid size"
   ]
  },
  {
   "cell_type": "code",
   "execution_count": 3,
   "metadata": {},
   "outputs": [
    {
     "name": "stdout",
     "output_type": "stream",
     "text": [
      "Reading file: /home/bgreene/simulations/A_096/output/netcdf/average_statistics.nc\n",
      "Reading file: /home/bgreene/simulations/A_128_interp/output/netcdf/average_statistics.nc\n",
      "Reading file: /home/bgreene/simulations/A_160_interp/output/netcdf/average_statistics.nc\n",
      "Reading file: /home/bgreene/simulations/A_192_interp/output/netcdf/average_statistics.nc\n",
      "Reading file: /home/bgreene/simulations/F_096/output/netcdf/average_statistics.nc\n",
      "Reading file: /home/bgreene/simulations/F_128_interp/output/netcdf/average_statistics.nc\n",
      "Reading file: /home/bgreene/simulations/F_160_interp/output/netcdf/average_statistics.nc\n",
      "Reading file: /home/bgreene/simulations/F_192_interp/output/netcdf/average_statistics.nc\n"
     ]
    }
   ],
   "source": [
    "stabs = [\"A\", \"F\"]\n",
    "res = [\"096\", \"128_interp\", \"160_interp\", \"192_interp\"]\n",
    "A_all, F_all = [], []\n",
    "for r in res:\n",
    "    fread = f\"/home/bgreene/simulations/A_{r}/output/netcdf/average_statistics.nc\"\n",
    "    print(f\"Reading file: {fread}\")\n",
    "    A_all.append(xr.load_dataset(fread))\n",
    "for r in res:\n",
    "    fread = f\"/home/bgreene/simulations/F_{r}/output/netcdf/average_statistics.nc\"\n",
    "    print(f\"Reading file: {fread}\")\n",
    "    F_all.append(xr.load_dataset(fread))"
   ]
  },
  {
   "cell_type": "markdown",
   "metadata": {},
   "source": [
    "### Calculate important parameters"
   ]
  },
  {
   "cell_type": "code",
   "execution_count": 4,
   "metadata": {},
   "outputs": [],
   "source": [
    "for s in A_all+F_all:\n",
    "# calculate ustar and h\n",
    "    s[\"ustar\"] = ((s.uw_cov_tot**2.) + (s.vw_cov_tot**2.)) ** 0.25\n",
    "    s[\"ustar2\"] = s.ustar ** 2.\n",
    "    s[\"h\"] = s.z.where(s.ustar2 <= 0.05*s.ustar2[0], drop=True)[0] / 0.95\n",
    "    # grab ustar0 and calc tstar0 for normalizing in plotting\n",
    "    s[\"ustar0\"] = s.ustar.isel(z=0)\n",
    "    s[\"tstar0\"] = -s.tw_cov_tot.isel(z=0)/s.ustar0\n",
    "    # calculate Obukhov length L\n",
    "    s[\"L\"] = -(s.ustar0**3) * s.theta_mean.isel(z=0) / (0.4 * 9.81 * s.tw_cov_tot.isel(z=0))\n",
    "    # calculate uh and alpha\n",
    "    s[\"uh\"] = np.sqrt(s.u_mean**2. + s.v_mean**2.)\n",
    "    s[\"wdir\"] = np.arctan2(-s.u_mean, -s.v_mean) * 180./np.pi\n",
    "    s[\"wdir\"] = s.wdir.where(s.wdir < 0.) + 360."
   ]
  },
  {
   "cell_type": "markdown",
   "metadata": {},
   "source": [
    "### Print table of parameters"
   ]
  },
  {
   "cell_type": "code",
   "execution_count": 24,
   "metadata": {},
   "outputs": [
    {
     "name": "stdout",
     "output_type": "stream",
     "text": [
      "---A---\n",
      "Res: 96\n",
      "dx: 8.33 m\n",
      "dz: 4.17 m\n",
      "df: 6.61 m\n",
      "h:  173.6 m\n",
      "L0: 99.1 m\n",
      "h/L: 1.75\n",
      "u*0: 0.248 m/s\n",
      "zj/h: 0.926\n",
      "--\n",
      "Res: 128\n",
      "dx: 6.25 m\n",
      "dz: 3.12 m\n",
      "df: 4.96 m\n",
      "h:  163.2 m\n",
      "L0: 96.7 m\n",
      "h/L: 1.69\n",
      "u*0: 0.24 m/s\n",
      "zj/h: 0.969\n",
      "--\n",
      "Res: 160\n",
      "dx: 5.00 m\n",
      "dz: 2.50 m\n",
      "df: 3.97 m\n",
      "h:  162.1 m\n",
      "L0: 98.4 m\n",
      "h/L: 1.65\n",
      "u*0: 0.24 m/s\n",
      "zj/h: 0.965\n",
      "--\n",
      "Res: 192\n",
      "dx: 4.17 m\n",
      "dz: 2.08 m\n",
      "df: 3.31 m\n",
      "h:  159.3 m\n",
      "L0: 98.9 m\n",
      "h/L: 1.61\n",
      "u*0: 0.238 m/s\n",
      "zj/h: 0.976\n",
      "--\n",
      "---F---\n",
      "Res: 96\n",
      "dx: 8.33 m\n",
      "dz: 4.17 m\n",
      "df: 6.61 m\n",
      "h:  99.86 m\n",
      "L0: 8.40 m\n",
      "h/L: 11.89\n",
      "u*0: 0.187 m/s\n",
      "zj/h: 0.909\n",
      "--\n",
      "Res: 128\n",
      "dx: 6.25 m\n",
      "dz: 3.12 m\n",
      "df: 4.96 m\n",
      "h:  91.41 m\n",
      "L0: 8.26 m\n",
      "h/L: 11.06\n",
      "u*0: 0.182 m/s\n",
      "zj/h: 0.916\n",
      "--\n",
      "Res: 160\n",
      "dx: 5.00 m\n",
      "dz: 2.50 m\n",
      "df: 3.97 m\n",
      "h:  83.70 m\n",
      "L0: 8.05 m\n",
      "h/L: 10.40\n",
      "u*0: 0.177 m/s\n",
      "zj/h: 0.950\n",
      "--\n",
      "Res: 192\n",
      "dx: 4.17 m\n",
      "dz: 2.08 m\n",
      "df: 3.31 m\n",
      "h:  80.73 m\n",
      "L0: 7.81 m\n",
      "h/L: 10.34\n",
      "u*0: 0.173 m/s\n",
      "zj/h: 0.924\n",
      "--\n"
     ]
    }
   ],
   "source": [
    "print(\"---A---\")\n",
    "for s in A_all:\n",
    "    print(f\"Res: {s.nx}\")\n",
    "    print(f\"dx: {s.dx:3.2f} m\")\n",
    "    print(f\"dz: {s.dz:3.2f} m\")\n",
    "    print(f\"df: {s.delta:3.2f} m\")\n",
    "    print(f\"h:  {s.h.values:3.1f} m\")\n",
    "    print(f\"L0: {s.L.values:3.1f} m\")\n",
    "    print(f\"h/L: {(s.h/s.L).values:3.2f}\")\n",
    "    print(f\"u*0: {s.ustar0.values:4.3} m/s\")\n",
    "    print(f\"zj/h: {(s.z.isel(z=s.uh.argmax())/s.h).values:4.3f}\")\n",
    "    print(\"--\")\n",
    "print(\"---F---\")\n",
    "for s in F_all:\n",
    "    print(f\"Res: {s.nx}\")\n",
    "    print(f\"dx: {s.dx:3.2f} m\")\n",
    "    print(f\"dz: {s.dz:3.2f} m\")\n",
    "    print(f\"df: {s.delta:3.2f} m\")\n",
    "    print(f\"h:  {s.h.values:3.2f} m\")\n",
    "    print(f\"L0: {s.L.values:3.2f} m\")\n",
    "    print(f\"h/L: {(s.h/s.L).values:3.2f}\")\n",
    "    print(f\"u*0: {s.ustar0.values:4.3} m/s\")\n",
    "    print(f\"zj/h: {(s.z.isel(z=s.uh.argmax())/s.h).values:4.3f}\")\n",
    "    print(\"--\")"
   ]
  },
  {
   "cell_type": "markdown",
   "metadata": {},
   "source": [
    "### Begin plotting"
   ]
  },
  {
   "cell_type": "markdown",
   "metadata": {},
   "source": [
    "Figure 1: Sim A u_h, alpha, theta; ustar2, theta'w', u'u' versus z/h"
   ]
  },
  {
   "cell_type": "code",
   "execution_count": 7,
   "metadata": {},
   "outputs": [],
   "source": [
    "fig1, ax1 = plt.subplots(nrows=2, ncols=3, sharey=True, figsize=(14.8, 10))\n",
    "for i, s in enumerate(A_all):\n",
    "    # (a) u_h\n",
    "    ax1[0,0].plot(s.uh, s.z/s.h, ls=\"-\", c=colors[i], lw=2)\n",
    "    # (b) alpha\n",
    "    ax1[0,1].plot(s.wdir, s.z/s.h, ls=\"-\", c=colors[i], lw=2)\n",
    "    # (c) theta\n",
    "    ax1[0,2].plot(s.theta_mean, s.z/s.h, ls=\"-\", c=colors[i], lw=2)\n",
    "    # (d) ustar^2\n",
    "    ax1[1,0].plot(s.ustar2/s.ustar0/s.ustar0, s.z/s.h, ls=\"-\", c=colors[i], lw=2,\n",
    "                  label=f\"{s.nx}$^3$ ($\\\\Delta = {{{s.delta:3.2f}}}$ m)\")\n",
    "    # (e) ustar^2\n",
    "    ax1[1,1].plot(s.tw_cov_tot/s.ustar0/s.tstar0, s.z/s.h, ls=\"-\", c=colors[i], lw=2)\n",
    "    # (f) u'u'\n",
    "    ax1[1,2].plot(s.u_var_rot/s.ustar0/s.ustar0, s.z/s.h, ls=\"-\", c=colors[i], lw=2)\n",
    "# clean up\n",
    "# (a)\n",
    "ax1[0,0].set_ylabel(\"$z/h$\")\n",
    "ax1[0,0].set_ylim([0, 1.2])\n",
    "ax1[0,0].set_xlabel(\"$\\\\langle u_h \\\\rangle$ [m s$^{-1}$]\")\n",
    "ax1[0,0].set_xlim([0, 12])\n",
    "ax1[0,0].xaxis.set_major_locator(MultipleLocator(2))\n",
    "ax1[0,0].xaxis.set_minor_locator(MultipleLocator(0.5))\n",
    "ax1[0,0].text(0.87,0.05,r'\\textbf{(a)}',fontsize=20,bbox=props, \n",
    "              transform=ax1[0,0].transAxes)\n",
    "# (b)\n",
    "ax1[0,1].set_xlabel(\"$\\\\langle \\\\alpha \\\\rangle$ [deg]\")\n",
    "ax1[0,1].set_xlim([230, 280])\n",
    "ax1[0,1].xaxis.set_major_locator(MultipleLocator(10))\n",
    "ax1[0,1].xaxis.set_minor_locator(MultipleLocator(5))\n",
    "ax1[0,1].axvline(270, c=\"k\", alpha=0.5)\n",
    "ax1[0,1].text(0.87,0.05,r'\\textbf{(b)}',fontsize=20,bbox=props, \n",
    "              transform=ax1[0,1].transAxes)\n",
    "# (c)\n",
    "ax1[0,2].set_xlabel(\"$\\\\langle \\\\theta \\\\rangle$ [K]\")\n",
    "ax1[0,2].set_xlim([263, 266])\n",
    "ax1[0,2].xaxis.set_major_locator(MultipleLocator(1))\n",
    "ax1[0,2].xaxis.set_minor_locator(MultipleLocator(0.25))\n",
    "ax1[0,2].text(0.87,0.05,r'\\textbf{(c)}',fontsize=20,bbox=props, \n",
    "              transform=ax1[0,2].transAxes)\n",
    "# (d)\n",
    "ax1[1,0].set_ylabel(\"$z/h$\")\n",
    "ax1[1,0].set_xlabel(\"$u_{*}^2 / u_{*0}^2$\")\n",
    "ax1[1,0].set_xlim([0, 1.2])\n",
    "ax1[1,0].xaxis.set_major_locator(MultipleLocator(0.2))\n",
    "ax1[1,0].xaxis.set_minor_locator(MultipleLocator(0.05))\n",
    "ax1[1,0].legend(loc=\"upper right\", labelspacing=0.10, \n",
    "                handletextpad=0.4, shadow=True, handlelength=0.75)\n",
    "ax1[1,0].text(0.03,0.05,r'\\textbf{(d)}',fontsize=20,bbox=props, \n",
    "              transform=ax1[1,0].transAxes)\n",
    "# (e)\n",
    "ax1[1,1].set_xlabel(\"$\\\\langle \\\\theta'w' \\\\rangle / u_{*0} \\\\theta_{*0}$\")\n",
    "ax1[1,1].set_xlim([-1.2, 0])\n",
    "ax1[1,1].xaxis.set_major_locator(MultipleLocator(0.2))\n",
    "ax1[1,1].xaxis.set_minor_locator(MultipleLocator(0.05))\n",
    "ax1[1,1].text(0.87,0.05,r'\\textbf{(e)}',fontsize=20,bbox=props, \n",
    "              transform=ax1[1,1].transAxes)\n",
    "# (f)\n",
    "ax1[1,2].set_xlabel(\"$\\\\langle u'^2 \\\\rangle / u_{*0}^2$\")\n",
    "ax1[1,2].set_xlim([0, 5])\n",
    "ax1[1,2].xaxis.set_major_locator(MultipleLocator(1))\n",
    "ax1[1,2].xaxis.set_minor_locator(MultipleLocator(0.25))\n",
    "ax1[1,2].text(0.03,0.05,r'\\textbf{(f)}',fontsize=20,bbox=props, \n",
    "              transform=ax1[1,2].transAxes)\n",
    "# add horizontal line at z/h = 1 for all\n",
    "# tick lines inside plot\n",
    "for iax in ax1.flatten():\n",
    "    iax.axhline(1.0, c=\"k\", alpha=0.5, ls=\"--\")\n",
    "    iax.tick_params(which=\"both\", direction=\"in\", top=True, right=True, pad=8)\n",
    "# save and close\n",
    "fig1.tight_layout()\n",
    "fig1.savefig(f\"{fdir_save}A_grid_v1.pdf\", format=\"pdf\")\n",
    "plt.close(fig1)"
   ]
  },
  {
   "cell_type": "markdown",
   "metadata": {},
   "source": [
    "Figure 2: Sim F u_h, alpha, theta; ustar2, theta'w', u'u' versus z/h\n"
   ]
  },
  {
   "cell_type": "code",
   "execution_count": 8,
   "metadata": {},
   "outputs": [],
   "source": [
    "fig2, ax2 = plt.subplots(nrows=2, ncols=3, sharey=True, figsize=(14.8, 10))\n",
    "for i, s in enumerate(F_all):\n",
    "    # (a) u_h\n",
    "    ax2[0,0].plot(s.uh, s.z/s.h, ls=\"-\", c=colors[i], lw=2)\n",
    "    # (b) alpha\n",
    "    ax2[0,1].plot(s.wdir, s.z/s.h, ls=\"-\", c=colors[i], lw=2)\n",
    "    # (c) theta\n",
    "    ax2[0,2].plot(s.theta_mean, s.z/s.h, ls=\"-\", c=colors[i], lw=2)\n",
    "    # (d) ustar^2\n",
    "    ax2[1,0].plot(s.ustar2/s.ustar0/s.ustar0, s.z/s.h, ls=\"-\", c=colors[i], lw=2,\n",
    "                  label=f\"{s.nx}$^3$ ($\\\\Delta = {{{s.delta:3.2f}}}$ m)\")\n",
    "    # (e) ustar^2\n",
    "    ax2[1,1].plot(s.tw_cov_tot/s.ustar0/s.tstar0, s.z/s.h, ls=\"-\", c=colors[i], lw=2)\n",
    "    # (f) u'u'\n",
    "    ax2[1,2].plot(s.u_var_rot/s.ustar0/s.ustar0, s.z/s.h, ls=\"-\", c=colors[i], lw=2)\n",
    "# clean up\n",
    "# (a)\n",
    "ax2[0,0].set_ylabel(\"$z/h$\")\n",
    "ax2[0,0].set_ylim([0, 1.2])\n",
    "ax2[0,0].set_xlabel(\"$\\\\langle u_h \\\\rangle$ [m s$^{-1}$]\")\n",
    "ax2[0,0].set_xlim([0, 12])\n",
    "ax2[0,0].xaxis.set_major_locator(MultipleLocator(2))\n",
    "ax2[0,0].xaxis.set_minor_locator(MultipleLocator(0.5))\n",
    "ax2[0,0].text(0.87,0.05,r'\\textbf{(a)}',fontsize=20,bbox=props, \n",
    "              transform=ax2[0,0].transAxes)\n",
    "# (b)\n",
    "ax2[0,1].set_xlabel(\"$\\\\langle \\\\alpha \\\\rangle$ [deg]\")\n",
    "ax2[0,1].set_xlim([220, 280])\n",
    "ax2[0,1].xaxis.set_major_locator(MultipleLocator(10))\n",
    "ax2[0,1].xaxis.set_minor_locator(MultipleLocator(5))\n",
    "ax2[0,1].axvline(270, c=\"k\", alpha=0.5)\n",
    "ax2[0,1].text(0.87,0.05,r'\\textbf{(b)}',fontsize=20,bbox=props, \n",
    "              transform=ax2[0,1].transAxes)\n",
    "# (c)\n",
    "ax2[0,2].set_xlabel(\"$\\\\langle \\\\theta \\\\rangle$ [K]\")\n",
    "ax2[0,2].set_xlim([240, 266])\n",
    "ax2[0,2].xaxis.set_major_locator(MultipleLocator(5))\n",
    "ax2[0,2].xaxis.set_minor_locator(MultipleLocator(1))\n",
    "ax2[0,2].text(0.87,0.05,r'\\textbf{(c)}',fontsize=20,bbox=props, \n",
    "              transform=ax2[0,2].transAxes)\n",
    "# (d)\n",
    "ax2[1,0].set_ylabel(\"$z/h$\")\n",
    "ax2[1,0].set_xlabel(\"$u_{*}^2 / u_{*0}^2$\")\n",
    "ax2[1,0].set_xlim([0, 1.2])\n",
    "ax2[1,0].xaxis.set_major_locator(MultipleLocator(0.2))\n",
    "ax2[1,0].xaxis.set_minor_locator(MultipleLocator(0.05))\n",
    "ax2[1,0].legend(loc=\"upper right\", labelspacing=0.10, \n",
    "                handletextpad=0.4, shadow=True, handlelength=0.75)\n",
    "ax2[1,0].text(0.03,0.05,r'\\textbf{(d)}',fontsize=20,bbox=props, \n",
    "              transform=ax2[1,0].transAxes)\n",
    "# (e)\n",
    "ax2[1,1].set_xlabel(\"$\\\\langle \\\\theta'w' \\\\rangle / u_{*0} \\\\theta_{*0}$\")\n",
    "ax2[1,1].set_xlim([-1.2, 0])\n",
    "ax2[1,1].xaxis.set_major_locator(MultipleLocator(0.2))\n",
    "ax2[1,1].xaxis.set_minor_locator(MultipleLocator(0.05))\n",
    "ax2[1,1].text(0.87,0.05,r'\\textbf{(e)}',fontsize=20,bbox=props, \n",
    "              transform=ax2[1,1].transAxes)\n",
    "# (f)\n",
    "ax2[1,2].set_xlabel(\"$\\\\langle u'^2 \\\\rangle / u_{*0}^2$\")\n",
    "ax2[1,2].set_xlim([0, 5])\n",
    "ax2[1,2].xaxis.set_major_locator(MultipleLocator(1))\n",
    "ax2[1,2].xaxis.set_minor_locator(MultipleLocator(0.25))\n",
    "ax2[1,2].text(0.03,0.05,r'\\textbf{(f)}',fontsize=20,bbox=props, \n",
    "              transform=ax2[1,2].transAxes)\n",
    "# add horizontal line at z/h = 1 for all\n",
    "# tick lines inside plot\n",
    "for iax in ax2.flatten():\n",
    "    iax.axhline(1.0, c=\"k\", alpha=0.5, ls=\"--\")\n",
    "    iax.tick_params(which=\"both\", direction=\"in\", top=True, right=True, pad=8)\n",
    "# save and close\n",
    "fig2.tight_layout()\n",
    "fig2.savefig(f\"{fdir_save}F_grid_v1.pdf\", format=\"pdf\")\n",
    "plt.close(fig2)"
   ]
  },
  {
   "cell_type": "code",
   "execution_count": null,
   "metadata": {},
   "outputs": [],
   "source": []
  },
  {
   "cell_type": "code",
   "execution_count": null,
   "metadata": {},
   "outputs": [],
   "source": []
  }
 ],
 "metadata": {
  "interpreter": {
   "hash": "f9fbfffe580729b6e74213a43dd342ffb424f1e3925a9b41876a0ee745b6429c"
  },
  "kernelspec": {
   "display_name": "Python 3.7.11 ('base')",
   "language": "python",
   "name": "python3"
  },
  "language_info": {
   "codemirror_mode": {
    "name": "ipython",
    "version": 3
   },
   "file_extension": ".py",
   "mimetype": "text/x-python",
   "name": "python",
   "nbconvert_exporter": "python",
   "pygments_lexer": "ipython3",
   "version": "3.7.11"
  },
  "orig_nbformat": 4
 },
 "nbformat": 4,
 "nbformat_minor": 2
}
