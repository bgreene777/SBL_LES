{
 "cells": [
  {
   "cell_type": "code",
   "execution_count": 1,
   "metadata": {},
   "outputs": [],
   "source": [
    "# --------------------------------\n",
    "# Name: random_errors_filter.ipynb\n",
    "# Author: Brian R. Greene\n",
    "# University of Oklahoma\n",
    "# Created: 28 April 2021\n",
    "# Purpose: Read volumetric output from LES to calculate autocorrelations,\n",
    "# integral length scales, and random error profiles by using filtering\n",
    "# method from Salesky et al. 2012\n",
    "# --------------------------------"
   ]
  },
  {
   "cell_type": "code",
   "execution_count": 2,
   "metadata": {},
   "outputs": [],
   "source": [
    "import numpy as np\n",
    "from numpy.fft import fft, ifft\n",
    "import matplotlib.pyplot as plt\n",
    "from matplotlib import rc\n",
    "from scipy import signal"
   ]
  },
  {
   "cell_type": "code",
   "execution_count": 3,
   "metadata": {},
   "outputs": [],
   "source": [
    "# Configure plots\n",
    "rc('font',weight='normal',size=20,family='serif',serif='Computer Modern Roman')\n",
    "rc('text',usetex='True')"
   ]
  },
  {
   "cell_type": "code",
   "execution_count": 4,
   "metadata": {},
   "outputs": [],
   "source": [
    "def read_f90_bin(path,nx,ny,nz,precision):  \n",
    "    print(f\"Reading file: {path}\")\n",
    "    f=open(path,'rb')\n",
    "    if (precision==4):\n",
    "        dat=np.fromfile(f,dtype='float32',count=nx*ny*nz)\n",
    "    elif (precision==8):\n",
    "        dat=np.fromfile(f,dtype='float64',count=nx*ny*nz)\n",
    "    else:\n",
    "        raise ValueError('Precision must be 4 or 8')\n",
    "    dat=np.reshape(dat,(nx,ny,nz),order='F')\n",
    "    f.close()\n",
    "    return dat"
   ]
  },
  {
   "cell_type": "markdown",
   "metadata": {},
   "source": [
    "# Start by looking at one file - A_128_interp"
   ]
  },
  {
   "cell_type": "code",
   "execution_count": 69,
   "metadata": {},
   "outputs": [
    {
     "name": "stdout",
     "output_type": "stream",
     "text": [
      "Reading file: /home/bgreene/simulations/A_128_interp/output/u_1260000.out\n"
     ]
    }
   ],
   "source": [
    "# read last u file\n",
    "fdir = \"/home/bgreene/simulations/A_128_interp/output/\"\n",
    "f1 = f\"{fdir}u_1260000.out\"\n",
    "# dimensions\n",
    "nx, ny, nz = 128, 128, 128\n",
    "Lx, Ly, Lz = 800., 800., 400.\n",
    "dx, dy, dz = Lx/(nx-1), Ly/(ny-1), Lz/(nz-1)\n",
    "# load file\n",
    "u_in = read_f90_bin(f1,nx,ny,nz,8)\n",
    "# grab 1d slice for testing\n",
    "kz = 0\n",
    "ux0 = u_in[:,64,kz]"
   ]
  },
  {
   "cell_type": "code",
   "execution_count": 70,
   "metadata": {},
   "outputs": [],
   "source": [
    "# load average statistics to get <U>\n",
    "fstat = f\"{fdir}average_statistics.csv\"\n",
    "dstat = np.loadtxt(fstat, delimiter=\",\", skiprows=1)\n",
    "Ubar = dstat[:,1]\n",
    "\n",
    "# specify some filter parameters\n",
    "# f_min = 10.*(dz/2.)/Ubar[0] # f_min ~= 10*Tau_f ~= 10*z/Ubar\n",
    "# f_min = 1.\n",
    "f_min = dx\n",
    "# f_max = (Lx/Ubar[0])/4. # f_max ~= T/10\n",
    "# f_max = 3600.\n",
    "f_max = Lx\n",
    "# f_min = 2. * dx\n",
    "# f_max = (nx//4) * dx\n",
    "nf = 100\n",
    "# set up logspace array of filter widths as function of delta_t\n",
    "delta_x = np.logspace(np.log10(f_min), np.log10(f_max), num=nf, base=10.0)\n",
    "# set up array of std of filtered flux as fn of delta_t\n",
    "sigma_f = np.zeros(nf, dtype=float)"
   ]
  },
  {
   "cell_type": "code",
   "execution_count": 71,
   "metadata": {},
   "outputs": [],
   "source": [
    "# start looping over filter sizes\n",
    "for k in range(nf):\n",
    "    # filter f at scale delta_t\n",
    "    # wavenumber increment\n",
    "    dk = 2.*np.pi / Lx\n",
    "    # spatial filter via Taylor\n",
    "#     delta_x = delta_t[k] * ux0.mean()\n",
    "    # set up array of filter transfer function\n",
    "    filt = np.zeros(nx//2, dtype=float)\n",
    "    # assemble transfer function of box filter\n",
    "    for i in range(1, nx//2):\n",
    "        filt[i] = np.sin((i)*dk*delta_x[k]/2.)/((i)*dk*delta_x[k]/2.)\n",
    "    \n",
    "    # forward FFT\n",
    "    f_fft = fft(ux0)\n",
    "    \n",
    "    # filter\n",
    "    for i in range(1, nx//2):\n",
    "        f_fft[i] *= filt[i]\n",
    "        f_fft[nx-i-1] *= filt[i]\n",
    "#         if k==0:\n",
    "#             print(i, nx-i-1)\n",
    "    \n",
    "    # inverse FFT\n",
    "    f_filtered = ifft(f_fft)\n",
    "    \n",
    "    # calc standard deviation \n",
    "    sigma_f[k] = np.std(f_filtered)"
   ]
  },
  {
   "cell_type": "code",
   "execution_count": 72,
   "metadata": {},
   "outputs": [],
   "source": [
    "# fit power law to stdev of local filtered f\n",
    "A = delta_x ** (-0.5)\n",
    "\n",
    "# reshape sigma_f and A into shape(1, nf) to enable least sqaures solution\n",
    "C_wc = np.dot(sigma_f.reshape(1,-1), np.linalg.pinv(A.reshape(1,-1)))[0][0]\n",
    "# C_wc = sigma_f/A\n",
    "\n",
    "# evaluate power law fit for delta_t = T to obtain error estimate\n",
    "stdev_f = C_wc*((3.)**-0.5)\n",
    "\n",
    "# calculate variance of unfiltered data\n",
    "var_flux = np.var(ux0)\n",
    "# grab variance of unfiltered data from stats file\n",
    "# var_flux = dstat[0, 13]\n",
    "\n",
    "# estimate integral timescale of ux0 from power law coefficient\n",
    "tau_f = (C_wc**2.) / (2.*var_flux)"
   ]
  },
  {
   "cell_type": "code",
   "execution_count": 73,
   "metadata": {},
   "outputs": [
    {
     "data": {
      "text/plain": [
       "Text(800.0, 0.02, '$L_x$')"
      ]
     },
     "execution_count": 73,
     "metadata": {},
     "output_type": "execute_result"
    },
    {
     "data": {
      "image/png": "[encoded data removed]",
      "text/plain": [
       "<Figure size 432x288 with 1 Axes>"
      ]
     },
     "metadata": {
      "needs_background": "light"
     },
     "output_type": "display_data"
    }
   ],
   "source": [
    "plt.plot(delta_x, sigma_f/Ubar[kz], \"-k\")\n",
    "plt.xscale(\"log\")\n",
    "plt.xlim([5, 1500])\n",
    "plt.yscale(\"log\")\n",
    "plt.ylim([0.01, 3])\n",
    "# plt.axvline(3600., c=\"r\")\n",
    "# plt.axvline(3., c=\"k\")\n",
    "# plt.axvline(Lx/ux0.mean(), c=\"b\")\n",
    "# plt.axvline(dx/ux0.mean(), c=\"b\")\n",
    "plt.axvline(dx, c=\"b\")\n",
    "plt.axvline(Lx, c=\"b\")\n",
    "# plt.xlim([10, 300])\n",
    "plt.xlabel(\"$\\Delta_x$ [m]\")\n",
    "plt.ylabel(\"$\\epsilon_u$\")\n",
    "\n",
    "delta_x_min = 4.*dx\n",
    "delta_x_max = Lx/10.\n",
    "\n",
    "plt.axvline(delta_x_min, c=\"r\")\n",
    "plt.axvline(delta_x_max, c=\"r\")\n",
    "\n",
    "ixuse = np.where((delta_x >= delta_x_min) & (delta_x <= delta_x_max))[0]\n",
    "\n",
    "C_fit = np.dot((sigma_f[ixuse]/Ubar[kz]).reshape(1,-1), np.linalg.pinv(A[ixuse].reshape(1,-1)))[0][0]\n",
    "\n",
    "plt.plot(delta_x, C_fit*(delta_x**-0.5), \"--k\")\n",
    "\n",
    "plt.annotate('$dx$', xy=(dx, 0.02), xytext=(dx, 0.02), rotation=270)\n",
    "plt.annotate('$\\Delta_x^{min}$', xy=(delta_x_min, 0.02), xytext=(delta_x_min, 0.02), rotation=270)\n",
    "plt.annotate('$\\Delta_x^{max}$', xy=(delta_x_max, 0.02), xytext=(delta_x_max, 0.02), rotation=270)\n",
    "plt.annotate('$L_x$', xy=(Lx, 0.02), xytext=(Lx, 0.02), rotation=270)"
   ]
  },
  {
   "cell_type": "code",
   "execution_count": 27,
   "metadata": {},
   "outputs": [
    {
     "data": {
      "text/plain": [
       "0.08191420458406332"
      ]
     },
     "execution_count": 27,
     "metadata": {},
     "output_type": "execute_result"
    }
   ],
   "source": [
    "C_fit * Lx**-0.5"
   ]
  },
  {
   "cell_type": "code",
   "execution_count": 14,
   "metadata": {},
   "outputs": [
    {
     "data": {
      "text/plain": [
       "[<matplotlib.lines.Line2D at 0x7fa9b679f6d0>]"
      ]
     },
     "execution_count": 14,
     "metadata": {},
     "output_type": "execute_result"
    },
    {
     "data": {
      "image/png": "[encoded data removed]",
      "text/plain": [
       "<Figure size 432x288 with 1 Axes>"
      ]
     },
     "metadata": {
      "needs_background": "light"
     },
     "output_type": "display_data"
    }
   ],
   "source": [
    "box = np.real(np.fft.fft(filt))\n",
    "plt.plot(box[:nx//4])"
   ]
  },
  {
   "cell_type": "code",
   "execution_count": 15,
   "metadata": {},
   "outputs": [
    {
     "data": {
      "text/plain": [
       "[<matplotlib.lines.Line2D at 0x7fa9b6674e50>]"
      ]
     },
     "execution_count": 15,
     "metadata": {},
     "output_type": "execute_result"
    },
    {
     "data": {
      "image/png": "[encoded data removed]",
      "text/plain": [
       "<Figure size 432x288 with 1 Axes>"
      ]
     },
     "metadata": {
      "needs_background": "light"
     },
     "output_type": "display_data"
    }
   ],
   "source": [
    "plt.plot(filt)"
   ]
  },
  {
   "cell_type": "code",
   "execution_count": null,
   "metadata": {},
   "outputs": [],
   "source": [
    "C_fit * ((3./Ubar[0])**-0.5)"
   ]
  },
  {
   "cell_type": "code",
   "execution_count": null,
   "metadata": {},
   "outputs": [],
   "source": [
    "stdev_f/Ubar[0]"
   ]
  },
  {
   "cell_type": "code",
   "execution_count": null,
   "metadata": {},
   "outputs": [],
   "source": [
    "var_flux, np.var(ux0)"
   ]
  },
  {
   "cell_type": "code",
   "execution_count": null,
   "metadata": {},
   "outputs": [],
   "source": [
    "sigma_f/A"
   ]
  },
  {
   "cell_type": "code",
   "execution_count": null,
   "metadata": {},
   "outputs": [],
   "source": [
    "ux0.mean()"
   ]
  },
  {
   "cell_type": "code",
   "execution_count": null,
   "metadata": {},
   "outputs": [],
   "source": [
    "sigma_f2 = np.zeros((1, len(sigma_f)), dtype=float)\n",
    "sigma_f2[0,:] = sigma_f\n",
    "A2 = np.zeros((1, len(A)), dtype=float)\n",
    "A2[0,:] = A\n",
    "np.linalg.lstsq(A2.T, sigma_f2.T, rcond=None)[0]"
   ]
  },
  {
   "cell_type": "code",
   "execution_count": null,
   "metadata": {},
   "outputs": [],
   "source": [
    "np.dot(sigma_f2, np.linalg.pinv(A2))[0][0]"
   ]
  },
  {
   "cell_type": "code",
   "execution_count": null,
   "metadata": {},
   "outputs": [],
   "source": [
    "x = np.arange(10, dtype=float)\n",
    "x.reshape(1,10)"
   ]
  },
  {
   "cell_type": "code",
   "execution_count": null,
   "metadata": {},
   "outputs": [],
   "source": [
    "a = np.array([1,2,3,4,5,6,7,8,9,1,2,3,4,5,6,7,8,9])\n",
    "a = a.reshape(1,-1)\n",
    "b = np.ones((25,18))\n",
    "np.dot(a, np.linalg.pinv(b))"
   ]
  },
  {
   "cell_type": "code",
   "execution_count": null,
   "metadata": {},
   "outputs": [],
   "source": [
    "np.dot(sigma_f.reshape(1,-1), np.linalg.pinv(A.reshape(1,-1)))[0][0]"
   ]
  },
  {
   "cell_type": "code",
   "execution_count": null,
   "metadata": {},
   "outputs": [],
   "source": [
    "import numba"
   ]
  },
  {
   "cell_type": "code",
   "execution_count": 10,
   "metadata": {},
   "outputs": [
    {
     "data": {
      "text/plain": [
       "4.999688352655746"
      ]
     },
     "execution_count": 10,
     "metadata": {},
     "output_type": "execute_result"
    }
   ],
   "source": [
    "(dx*dy*dz)**(1./3)"
   ]
  },
  {
   "cell_type": "code",
   "execution_count": 20,
   "metadata": {},
   "outputs": [
    {
     "data": {
      "text/plain": [
       "(25.19685039370079, 800.0)"
      ]
     },
     "execution_count": 20,
     "metadata": {},
     "output_type": "execute_result"
    }
   ],
   "source": [
    "4.*dx, Lx"
   ]
  },
  {
   "cell_type": "code",
   "execution_count": 60,
   "metadata": {},
   "outputs": [
    {
     "data": {
      "text/plain": [
       "(0, 30)"
      ]
     },
     "execution_count": 60,
     "metadata": {},
     "output_type": "execute_result"
    },
    {
     "data": {
      "image/png": "[encoded data removed]",
      "text/plain": [
       "<Figure size 432x288 with 1 Axes>"
      ]
     },
     "metadata": {
      "needs_background": "light"
     },
     "output_type": "display_data"
    }
   ],
   "source": [
    "plt.plot(Ubar*3., np.linspace(dz, Lz-dz, nz))\n",
    "plt.xlabel(\"Averaging Length for $T=3$ s [m]\")\n",
    "plt.ylabel(\"$z$ [m]\")\n",
    "plt.xlim([0, 30])"
   ]
  },
  {
   "cell_type": "code",
   "execution_count": 62,
   "metadata": {},
   "outputs": [
    {
     "data": {
      "text/plain": [
       "Text(0.5, 0, 'Relative error [$\\\\%$]')"
      ]
     },
     "execution_count": 62,
     "metadata": {},
     "output_type": "execute_result"
    },
    {
     "data": {
      "image/png": "[encoded data removed]",
      "text/plain": [
       "<Figure size 432x288 with 1 Axes>"
      ]
     },
     "metadata": {
      "needs_background": "light"
     },
     "output_type": "display_data"
    }
   ],
   "source": [
    "Tmean = 3. # seconds\n",
    "Lmean = Ubar * Tmean # meters\n",
    "rel_err = C_fit * (Lmean**-0.5)\n",
    "\n",
    "plt.plot(rel_err*100., np.linspace(dz, Lz-dz, nz))\n",
    "plt.xlabel(\"Relative error [$\\%$]\")\n",
    "# plt.xlim([30, 130])"
   ]
  },
  {
   "cell_type": "code",
   "execution_count": 68,
   "metadata": {},
   "outputs": [
    {
     "data": {
      "text/plain": [
       "12.598425196850394"
      ]
     },
     "execution_count": 68,
     "metadata": {},
     "output_type": "execute_result"
    }
   ],
   "source": [
    "dz*4"
   ]
  },
  {
   "cell_type": "code",
   "execution_count": null,
   "metadata": {},
   "outputs": [],
   "source": []
  }
 ],
 "metadata": {
  "kernelspec": {
   "display_name": "Python 3",
   "language": "python",
   "name": "python3"
  },
  "language_info": {
   "codemirror_mode": {
    "name": "ipython",
    "version": 3
   },
   "file_extension": ".py",
   "mimetype": "text/x-python",
   "name": "python",
   "nbconvert_exporter": "python",
   "pygments_lexer": "ipython3",
   "version": "3.7.6"
  }
 },
 "nbformat": 4,
 "nbformat_minor": 4
}
